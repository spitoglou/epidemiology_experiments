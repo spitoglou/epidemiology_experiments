{
 "cells": [
  {
   "cell_type": "code",
   "execution_count": 42,
   "metadata": {},
   "outputs": [],
   "source": [
    "import networkx as nx\n",
    "import matplotlib.pyplot as plt\n",
    "import matplotlib as mpl\n",
    "import numpy as np\n",
    "import pandas as pd\n",
    "from IPython.core.interactiveshell import InteractiveShell\n",
    "InteractiveShell.ast_node_interactivity = \"all\""
   ]
  },
  {
   "cell_type": "code",
   "execution_count": 43,
   "metadata": {},
   "outputs": [
    {
     "data": {
      "text/html": [
       "<div>\n",
       "<style scoped>\n",
       "    .dataframe tbody tr th:only-of-type {\n",
       "        vertical-align: middle;\n",
       "    }\n",
       "\n",
       "    .dataframe tbody tr th {\n",
       "        vertical-align: top;\n",
       "    }\n",
       "\n",
       "    .dataframe thead th {\n",
       "        text-align: right;\n",
       "    }\n",
       "</style>\n",
       "<table border=\"1\" class=\"dataframe\">\n",
       "  <thead>\n",
       "    <tr style=\"text-align: right;\">\n",
       "      <th></th>\n",
       "      <th>Households</th>\n",
       "    </tr>\n",
       "    <tr>\n",
       "      <th>Residents</th>\n",
       "      <th></th>\n",
       "    </tr>\n",
       "  </thead>\n",
       "  <tbody>\n",
       "    <tr>\n",
       "      <th>1</th>\n",
       "      <td>1061547</td>\n",
       "    </tr>\n",
       "    <tr>\n",
       "      <th>2</th>\n",
       "      <td>1218466</td>\n",
       "    </tr>\n",
       "    <tr>\n",
       "      <th>3</th>\n",
       "      <td>817921</td>\n",
       "    </tr>\n",
       "    <tr>\n",
       "      <th>4</th>\n",
       "      <td>726554</td>\n",
       "    </tr>\n",
       "    <tr>\n",
       "      <th>5</th>\n",
       "      <td>209569</td>\n",
       "    </tr>\n",
       "    <tr>\n",
       "      <th>6</th>\n",
       "      <td>68602</td>\n",
       "    </tr>\n",
       "    <tr>\n",
       "      <th>7</th>\n",
       "      <td>20273</td>\n",
       "    </tr>\n",
       "    <tr>\n",
       "      <th>8</th>\n",
       "      <td>7511</td>\n",
       "    </tr>\n",
       "    <tr>\n",
       "      <th>9</th>\n",
       "      <td>1881</td>\n",
       "    </tr>\n",
       "    <tr>\n",
       "      <th>10</th>\n",
       "      <td>2216</td>\n",
       "    </tr>\n",
       "  </tbody>\n",
       "</table>\n",
       "</div>"
      ],
      "text/plain": [
       "           Households\n",
       "Residents            \n",
       "1             1061547\n",
       "2             1218466\n",
       "3              817921\n",
       "4              726554\n",
       "5              209569\n",
       "6               68602\n",
       "7               20273\n",
       "8                7511\n",
       "9                1881\n",
       "10               2216"
      ]
     },
     "execution_count": 43,
     "metadata": {},
     "output_type": "execute_result"
    },
    {
     "data": {
      "text/plain": [
       "<matplotlib.axes._subplots.AxesSubplot at 0x264e243bc88>"
      ]
     },
     "execution_count": 43,
     "metadata": {},
     "output_type": "execute_result"
    },
    {
     "data": {
      "image/png": "[encoded data removed]",
      "text/plain": [
       "<Figure size 432x288 with 1 Axes>"
      ]
     },
     "metadata": {
      "needs_background": "light"
     },
     "output_type": "display_data"
    }
   ],
   "source": [
    "household_dict = {\n",
    "    1: 1061547,\n",
    "    2: 1218466,\n",
    "    3: 817921,\n",
    "    4: 726554,\n",
    "    5: 209569,\n",
    "    6: 68602,\n",
    "    7: 20273,\n",
    "    8: 7511,\n",
    "    9: 1881,\n",
    "    10: 2216\n",
    "}\n",
    "households = pd.DataFrame.from_dict(household_dict, orient='index', columns=['Households'])\n",
    "households.index = households.index.rename('Residents')\n",
    "households\n",
    "households.plot(kind='bar')"
   ]
  },
  {
   "cell_type": "code",
   "execution_count": 44,
   "metadata": {},
   "outputs": [],
   "source": [
    "households['No']=households.index\n",
    "households['Population'] = households.apply(lambda row: row.Households * row.No, axis = 1) "
   ]
  },
  {
   "cell_type": "code",
   "execution_count": 45,
   "metadata": {},
   "outputs": [
    {
     "data": {
      "text/html": [
       "<div>\n",
       "<style scoped>\n",
       "    .dataframe tbody tr th:only-of-type {\n",
       "        vertical-align: middle;\n",
       "    }\n",
       "\n",
       "    .dataframe tbody tr th {\n",
       "        vertical-align: top;\n",
       "    }\n",
       "\n",
       "    .dataframe thead th {\n",
       "        text-align: right;\n",
       "    }\n",
       "</style>\n",
       "<table border=\"1\" class=\"dataframe\">\n",
       "  <thead>\n",
       "    <tr style=\"text-align: right;\">\n",
       "      <th></th>\n",
       "      <th>Households</th>\n",
       "      <th>No</th>\n",
       "      <th>Population</th>\n",
       "    </tr>\n",
       "    <tr>\n",
       "      <th>Residents</th>\n",
       "      <th></th>\n",
       "      <th></th>\n",
       "      <th></th>\n",
       "    </tr>\n",
       "  </thead>\n",
       "  <tbody>\n",
       "    <tr>\n",
       "      <th>1</th>\n",
       "      <td>1061547</td>\n",
       "      <td>1</td>\n",
       "      <td>1061547</td>\n",
       "    </tr>\n",
       "    <tr>\n",
       "      <th>2</th>\n",
       "      <td>1218466</td>\n",
       "      <td>2</td>\n",
       "      <td>2436932</td>\n",
       "    </tr>\n",
       "    <tr>\n",
       "      <th>3</th>\n",
       "      <td>817921</td>\n",
       "      <td>3</td>\n",
       "      <td>2453763</td>\n",
       "    </tr>\n",
       "    <tr>\n",
       "      <th>4</th>\n",
       "      <td>726554</td>\n",
       "      <td>4</td>\n",
       "      <td>2906216</td>\n",
       "    </tr>\n",
       "    <tr>\n",
       "      <th>5</th>\n",
       "      <td>209569</td>\n",
       "      <td>5</td>\n",
       "      <td>1047845</td>\n",
       "    </tr>\n",
       "    <tr>\n",
       "      <th>6</th>\n",
       "      <td>68602</td>\n",
       "      <td>6</td>\n",
       "      <td>411612</td>\n",
       "    </tr>\n",
       "    <tr>\n",
       "      <th>7</th>\n",
       "      <td>20273</td>\n",
       "      <td>7</td>\n",
       "      <td>141911</td>\n",
       "    </tr>\n",
       "    <tr>\n",
       "      <th>8</th>\n",
       "      <td>7511</td>\n",
       "      <td>8</td>\n",
       "      <td>60088</td>\n",
       "    </tr>\n",
       "    <tr>\n",
       "      <th>9</th>\n",
       "      <td>1881</td>\n",
       "      <td>9</td>\n",
       "      <td>16929</td>\n",
       "    </tr>\n",
       "    <tr>\n",
       "      <th>10</th>\n",
       "      <td>2216</td>\n",
       "      <td>10</td>\n",
       "      <td>22160</td>\n",
       "    </tr>\n",
       "  </tbody>\n",
       "</table>\n",
       "</div>"
      ],
      "text/plain": [
       "           Households  No  Population\n",
       "Residents                            \n",
       "1             1061547   1     1061547\n",
       "2             1218466   2     2436932\n",
       "3              817921   3     2453763\n",
       "4              726554   4     2906216\n",
       "5              209569   5     1047845\n",
       "6               68602   6      411612\n",
       "7               20273   7      141911\n",
       "8                7511   8       60088\n",
       "9                1881   9       16929\n",
       "10               2216  10       22160"
      ]
     },
     "execution_count": 45,
     "metadata": {},
     "output_type": "execute_result"
    }
   ],
   "source": [
    "households"
   ]
  },
  {
   "cell_type": "code",
   "execution_count": 46,
   "metadata": {},
   "outputs": [
    {
     "data": {
      "text/plain": [
       "4134540"
      ]
     },
     "execution_count": 46,
     "metadata": {},
     "output_type": "execute_result"
    },
    {
     "data": {
      "text/plain": [
       "10559003"
      ]
     },
     "execution_count": 46,
     "metadata": {},
     "output_type": "execute_result"
    }
   ],
   "source": [
    "total_households = households.Households.sum()\n",
    "total_households\n",
    "total_residents = households.Population.sum()\n",
    "total_residents"
   ]
  },
  {
   "cell_type": "code",
   "execution_count": 47,
   "metadata": {},
   "outputs": [
    {
     "data": {
      "text/html": [
       "<div>\n",
       "<style scoped>\n",
       "    .dataframe tbody tr th:only-of-type {\n",
       "        vertical-align: middle;\n",
       "    }\n",
       "\n",
       "    .dataframe tbody tr th {\n",
       "        vertical-align: top;\n",
       "    }\n",
       "\n",
       "    .dataframe thead th {\n",
       "        text-align: right;\n",
       "    }\n",
       "</style>\n",
       "<table border=\"1\" class=\"dataframe\">\n",
       "  <thead>\n",
       "    <tr style=\"text-align: right;\">\n",
       "      <th></th>\n",
       "      <th>Households</th>\n",
       "      <th>No</th>\n",
       "      <th>Population</th>\n",
       "      <th>Population_pc</th>\n",
       "      <th>Households_pc</th>\n",
       "    </tr>\n",
       "    <tr>\n",
       "      <th>Residents</th>\n",
       "      <th></th>\n",
       "      <th></th>\n",
       "      <th></th>\n",
       "      <th></th>\n",
       "      <th></th>\n",
       "    </tr>\n",
       "  </thead>\n",
       "  <tbody>\n",
       "    <tr>\n",
       "      <th>1</th>\n",
       "      <td>1061547</td>\n",
       "      <td>1</td>\n",
       "      <td>1061547</td>\n",
       "      <td>0.100535</td>\n",
       "      <td>0.256751</td>\n",
       "    </tr>\n",
       "    <tr>\n",
       "      <th>2</th>\n",
       "      <td>1218466</td>\n",
       "      <td>2</td>\n",
       "      <td>2436932</td>\n",
       "      <td>0.230792</td>\n",
       "      <td>0.294704</td>\n",
       "    </tr>\n",
       "    <tr>\n",
       "      <th>3</th>\n",
       "      <td>817921</td>\n",
       "      <td>3</td>\n",
       "      <td>2453763</td>\n",
       "      <td>0.232386</td>\n",
       "      <td>0.197826</td>\n",
       "    </tr>\n",
       "    <tr>\n",
       "      <th>4</th>\n",
       "      <td>726554</td>\n",
       "      <td>4</td>\n",
       "      <td>2906216</td>\n",
       "      <td>0.275236</td>\n",
       "      <td>0.175728</td>\n",
       "    </tr>\n",
       "    <tr>\n",
       "      <th>5</th>\n",
       "      <td>209569</td>\n",
       "      <td>5</td>\n",
       "      <td>1047845</td>\n",
       "      <td>0.099237</td>\n",
       "      <td>0.050687</td>\n",
       "    </tr>\n",
       "    <tr>\n",
       "      <th>6</th>\n",
       "      <td>68602</td>\n",
       "      <td>6</td>\n",
       "      <td>411612</td>\n",
       "      <td>0.038982</td>\n",
       "      <td>0.016592</td>\n",
       "    </tr>\n",
       "    <tr>\n",
       "      <th>7</th>\n",
       "      <td>20273</td>\n",
       "      <td>7</td>\n",
       "      <td>141911</td>\n",
       "      <td>0.013440</td>\n",
       "      <td>0.004903</td>\n",
       "    </tr>\n",
       "    <tr>\n",
       "      <th>8</th>\n",
       "      <td>7511</td>\n",
       "      <td>8</td>\n",
       "      <td>60088</td>\n",
       "      <td>0.005691</td>\n",
       "      <td>0.001817</td>\n",
       "    </tr>\n",
       "    <tr>\n",
       "      <th>9</th>\n",
       "      <td>1881</td>\n",
       "      <td>9</td>\n",
       "      <td>16929</td>\n",
       "      <td>0.001603</td>\n",
       "      <td>0.000455</td>\n",
       "    </tr>\n",
       "    <tr>\n",
       "      <th>10</th>\n",
       "      <td>2216</td>\n",
       "      <td>10</td>\n",
       "      <td>22160</td>\n",
       "      <td>0.002099</td>\n",
       "      <td>0.000536</td>\n",
       "    </tr>\n",
       "  </tbody>\n",
       "</table>\n",
       "</div>"
      ],
      "text/plain": [
       "           Households  No  Population  Population_pc  Households_pc\n",
       "Residents                                                          \n",
       "1             1061547   1     1061547       0.100535       0.256751\n",
       "2             1218466   2     2436932       0.230792       0.294704\n",
       "3              817921   3     2453763       0.232386       0.197826\n",
       "4              726554   4     2906216       0.275236       0.175728\n",
       "5              209569   5     1047845       0.099237       0.050687\n",
       "6               68602   6      411612       0.038982       0.016592\n",
       "7               20273   7      141911       0.013440       0.004903\n",
       "8                7511   8       60088       0.005691       0.001817\n",
       "9                1881   9       16929       0.001603       0.000455\n",
       "10               2216  10       22160       0.002099       0.000536"
      ]
     },
     "execution_count": 47,
     "metadata": {},
     "output_type": "execute_result"
    }
   ],
   "source": [
    "households['Population_pc'] = households.apply(lambda row: row.Population /total_residents, axis = 1) \n",
    "households['Households_pc'] = households.apply(lambda row: row.Households /total_households, axis = 1) \n",
    "households"
   ]
  },
  {
   "cell_type": "code",
   "execution_count": 48,
   "metadata": {},
   "outputs": [
    {
     "data": {
      "text/plain": [
       "<matplotlib.axes._subplots.AxesSubplot at 0x264e1ca4c88>"
      ]
     },
     "execution_count": 48,
     "metadata": {},
     "output_type": "execute_result"
    },
    {
     "data": {
      "image/png": "[encoded data removed]",
      "text/plain": [
       "<Figure size 432x288 with 1 Axes>"
      ]
     },
     "metadata": {
      "needs_background": "light"
     },
     "output_type": "display_data"
    }
   ],
   "source": [
    "households[['Population_pc', 'Households_pc']].plot(kind='bar')"
   ]
  },
  {
   "cell_type": "code",
   "execution_count": null,
   "metadata": {},
   "outputs": [],
   "source": []
  }
 ],
 "metadata": {
  "kernelspec": {
   "display_name": "Python 3",
   "language": "python",
   "name": "python3"
  },
  "language_info": {
   "codemirror_mode": {
    "name": "ipython",
    "version": 3
   },
   "file_extension": ".py",
   "mimetype": "text/x-python",
   "name": "python",
   "nbconvert_exporter": "python",
   "pygments_lexer": "ipython3",
   "version": "3.6.10"
  }
 },
 "nbformat": 4,
 "nbformat_minor": 4
}
